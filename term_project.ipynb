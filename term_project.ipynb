{
 "cells": [
  {
   "cell_type": "code",
   "execution_count": 1,
   "metadata": {},
   "outputs": [],
   "source": [
    "import pandas as pd\n",
    "import numpy as np\n",
    "import pulp as p"
   ]
  },
  {
   "cell_type": "code",
   "execution_count": 2,
   "metadata": {},
   "outputs": [],
   "source": [
    "# budget constraints\n",
    "df = pd.read_csv(\"Optimization term project - constraints.csv\")\n",
    "#cost matrix (weight factor for LP coefficients)\n",
    "df1 = pd.read_csv(\"Optimization term project - weight factors.csv\")"
   ]
  },
  {
   "cell_type": "code",
   "execution_count": 3,
   "metadata": {},
   "outputs": [
    {
     "data": {
      "text/html": [
       "<div>\n",
       "<style scoped>\n",
       "    .dataframe tbody tr th:only-of-type {\n",
       "        vertical-align: middle;\n",
       "    }\n",
       "\n",
       "    .dataframe tbody tr th {\n",
       "        vertical-align: top;\n",
       "    }\n",
       "\n",
       "    .dataframe thead th {\n",
       "        text-align: right;\n",
       "    }\n",
       "</style>\n",
       "<table border=\"1\" class=\"dataframe\">\n",
       "  <thead>\n",
       "    <tr style=\"text-align: right;\">\n",
       "      <th></th>\n",
       "      <th>weight factor</th>\n",
       "      <th>Tuberculosis (TB)</th>\n",
       "      <th>Malaria</th>\n",
       "      <th>Cardiovascular Disease</th>\n",
       "      <th>Cancer</th>\n",
       "      <th>Covid-19</th>\n",
       "      <th>Asthma</th>\n",
       "      <th>Malnutrition</th>\n",
       "      <th>infant mortality</th>\n",
       "      <th>trauma</th>\n",
       "      <th>Parkinson's disease</th>\n",
       "    </tr>\n",
       "  </thead>\n",
       "  <tbody>\n",
       "    <tr>\n",
       "      <th>0</th>\n",
       "      <td>USA</td>\n",
       "      <td>55548</td>\n",
       "      <td>3332876</td>\n",
       "      <td>75</td>\n",
       "      <td>73</td>\n",
       "      <td>94</td>\n",
       "      <td>11903</td>\n",
       "      <td>11110</td>\n",
       "      <td>20</td>\n",
       "      <td>734</td>\n",
       "      <td>2198</td>\n",
       "    </tr>\n",
       "    <tr>\n",
       "      <th>1</th>\n",
       "      <td>Brazil</td>\n",
       "      <td>2796</td>\n",
       "      <td>371230</td>\n",
       "      <td>161</td>\n",
       "      <td>87</td>\n",
       "      <td>111</td>\n",
       "      <td>9174</td>\n",
       "      <td>3623</td>\n",
       "      <td>8</td>\n",
       "      <td>459</td>\n",
       "      <td>5208</td>\n",
       "    </tr>\n",
       "    <tr>\n",
       "      <th>2</th>\n",
       "      <td>Japan</td>\n",
       "      <td>6782</td>\n",
       "      <td>1000000000</td>\n",
       "      <td>119</td>\n",
       "      <td>88</td>\n",
       "      <td>3,616</td>\n",
       "      <td>27806</td>\n",
       "      <td>24391</td>\n",
       "      <td>50</td>\n",
       "      <td>2,395</td>\n",
       "      <td>4292</td>\n",
       "    </tr>\n",
       "    <tr>\n",
       "      <th>3</th>\n",
       "      <td>China</td>\n",
       "      <td>4413</td>\n",
       "      <td>14121750</td>\n",
       "      <td>136</td>\n",
       "      <td>71</td>\n",
       "      <td>29,488</td>\n",
       "      <td>7752</td>\n",
       "      <td>12820</td>\n",
       "      <td>20</td>\n",
       "      <td>540</td>\n",
       "      <td>2532</td>\n",
       "    </tr>\n",
       "    <tr>\n",
       "      <th>4</th>\n",
       "      <td>India</td>\n",
       "      <td>295</td>\n",
       "      <td>1523842</td>\n",
       "      <td>114</td>\n",
       "      <td>120</td>\n",
       "      <td>951</td>\n",
       "      <td>541</td>\n",
       "      <td>14286</td>\n",
       "      <td>4</td>\n",
       "      <td>683</td>\n",
       "      <td>2188</td>\n",
       "    </tr>\n",
       "  </tbody>\n",
       "</table>\n",
       "</div>"
      ],
      "text/plain": [
       "  weight factor  Tuberculosis (TB)     Malaria  Cardiovascular Disease  \\\n",
       "0           USA              55548     3332876                      75   \n",
       "1        Brazil               2796      371230                     161   \n",
       "2         Japan               6782  1000000000                     119   \n",
       "3         China               4413    14121750                     136   \n",
       "4         India                295     1523842                     114   \n",
       "\n",
       "   Cancer Covid-19  Asthma  Malnutrition  infant mortality trauma  \\\n",
       "0      73       94   11903         11110                20    734   \n",
       "1      87      111    9174          3623                 8    459   \n",
       "2      88    3,616   27806         24391                50  2,395   \n",
       "3      71   29,488    7752         12820                20    540   \n",
       "4     120      951     541         14286                 4    683   \n",
       "\n",
       "   Parkinson's disease  \n",
       "0                 2198  \n",
       "1                 5208  \n",
       "2                 4292  \n",
       "3                 2532  \n",
       "4                 2188  "
      ]
     },
     "execution_count": 3,
     "metadata": {},
     "output_type": "execute_result"
    }
   ],
   "source": [
    "df1.head()"
   ]
  },
  {
   "cell_type": "code",
   "execution_count": 4,
   "metadata": {},
   "outputs": [
    {
     "name": "stdout",
     "output_type": "stream",
     "text": [
      "['USA', 55548, 3332876, 75, 73, '94', 11903, 11110, 20, '734', 2198]\n",
      "['Brazil', 2796, 371230, 161, 87, '111', 9174, 3623, 8, '459', 5208]\n",
      "['Japan', 6782, 1000000000, 119, 88, '3,616', 27806, 24391, 50, '2,395', 4292]\n",
      "['China', 4413, 14121750, 136, 71, '29,488', 7752, 12820, 20, '540', 2532]\n",
      "['India', 295, 1523842, 114, 120, '951', 541, 14286, 4, '683', 2188]\n",
      "['Indonesia', 250, 23832, 113, 89, '1,234', 746, 874, 5, '720', 2083]\n",
      "['Nigeria', 146, 113, 305, 102, '16,954', 934, 4237, 1, '614', 1786]\n",
      "['D.R Congo', 188, 15, 355, 97, '16,226', 482, 840, 2, '361', 2703]\n",
      "['Germany', 75071, 1000000000, 54, 71, '179', 21726, 66730, 33, '2,527', 2353]\n",
      "['U.K', 33486, 2232380, 73, 66, '71', 11627, 111619, 25, '3,306', 2321]\n"
     ]
    }
   ],
   "source": [
    "for i in range(10):\n",
    "    list_ex = df1.iloc[i].tolist()\n",
    "    print(list_ex)"
   ]
  },
  {
   "cell_type": "code",
   "execution_count": 5,
   "metadata": {},
   "outputs": [
    {
     "name": "stdout",
     "output_type": "stream",
     "text": [
      "['PULP_CBC_CMD']\n"
     ]
    }
   ],
   "source": [
    "solver_list = p.listSolvers(onlyAvailable=True)\n",
    "print(solver_list)\n",
    "solver = p.getSolver('GLPK_CMD')"
   ]
  },
  {
   "cell_type": "code",
   "execution_count": 6,
   "metadata": {},
   "outputs": [],
   "source": [
    "Lp_prob = p.LpProblem('Problem', p.LpMinimize)\n",
    "#for variable number xij represents ith country and jth disease\n",
    "x11 = p.LpVariable(\"x11\", lowBound = 0)\n",
    "x12 = p.LpVariable(\"x12\", lowBound = 0)\n",
    "x13 = p.LpVariable(\"x13\", lowBound = 0)\n",
    "x14 = p.LpVariable(\"x14\", lowBound = 0)\n",
    "x15 = p.LpVariable(\"x15\", lowBound = 0)\n",
    "x16 = p.LpVariable(\"x16\", lowBound = 0)\n",
    "x17 = p.LpVariable(\"x17\", lowBound = 0)\n",
    "x18 = p.LpVariable(\"x18\", lowBound = 0)\n",
    "x19 = p.LpVariable(\"x19\", lowBound = 0)\n",
    "x110 = p.LpVariable(\"x110\", lowBound = 0)\n",
    "x21 = p.LpVariable(\"x21\", lowBound = 0)\n",
    "x22 = p.LpVariable(\"x22\", lowBound = 0)\n",
    "x23 = p.LpVariable(\"x23\", lowBound = 0)\n",
    "x24 = p.LpVariable(\"x24\", lowBound = 0)\n",
    "x25 = p.LpVariable(\"x25\", lowBound = 0)\n",
    "x26 = p.LpVariable(\"x26\", lowBound = 0)\n",
    "x27 = p.LpVariable(\"x27\", lowBound = 0)\n",
    "x28 = p.LpVariable(\"x28\", lowBound = 0)\n",
    "x29 = p.LpVariable(\"x29\", lowBound = 0)\n",
    "x210 = p.LpVariable(\"x210\", lowBound = 0)\n",
    "x31 = p.LpVariable(\"x31\", lowBound = 0)\n",
    "x32 = p.LpVariable(\"x32\", lowBound = 0)\n",
    "x33 = p.LpVariable(\"x33\", lowBound = 0)\n",
    "x34 = p.LpVariable(\"x34\", lowBound = 0)\n",
    "x35 = p.LpVariable(\"x35\", lowBound = 0)\n",
    "x36 = p.LpVariable(\"x36\", lowBound = 0)\n",
    "x37 = p.LpVariable(\"x37\", lowBound = 0)\n",
    "x38 = p.LpVariable(\"x38\", lowBound = 0)\n",
    "x39 = p.LpVariable(\"x39\", lowBound = 0)\n",
    "x310 = p.LpVariable(\"x310\", lowBound = 0)\n",
    "x41 = p.LpVariable(\"x41\", lowBound = 0)\n",
    "x42 = p.LpVariable(\"x42\", lowBound = 0)\n",
    "x43 = p.LpVariable(\"x43\", lowBound = 0)\n",
    "x44 = p.LpVariable(\"x44\", lowBound = 0)\n",
    "x45 = p.LpVariable(\"x45\", lowBound = 0)\n",
    "x46 = p.LpVariable(\"x46\", lowBound = 0)\n",
    "x47 = p.LpVariable(\"x47\", lowBound = 0)\n",
    "x48 = p.LpVariable(\"x48\", lowBound = 0)\n",
    "x49 = p.LpVariable(\"x49\", lowBound = 0)\n",
    "x410 = p.LpVariable(\"x410\", lowBound = 0)\n",
    "x51 = p.LpVariable(\"x51\", lowBound = 0)\n",
    "x52 = p.LpVariable(\"x52\", lowBound = 0)\n",
    "x53 = p.LpVariable(\"x53\", lowBound = 0)\n",
    "x54 = p.LpVariable(\"x54\", lowBound = 0)\n",
    "x55 = p.LpVariable(\"x55\", lowBound = 0)\n",
    "x56 = p.LpVariable(\"x56\", lowBound = 0)\n",
    "x57 = p.LpVariable(\"x57\", lowBound = 0)\n",
    "x58 = p.LpVariable(\"x58\", lowBound = 0)\n",
    "x59 = p.LpVariable(\"x59\", lowBound = 0)\n",
    "x510 = p.LpVariable(\"x510\", lowBound = 0)\n",
    "x61 = p.LpVariable(\"x61\", lowBound = 0)\n",
    "x62 = p.LpVariable(\"x62\", lowBound = 0)\n",
    "x63 = p.LpVariable(\"x63\", lowBound = 0)\n",
    "x64 = p.LpVariable(\"x64\", lowBound = 0)\n",
    "x65 = p.LpVariable(\"x65\", lowBound = 0)\n",
    "x66 = p.LpVariable(\"x66\", lowBound = 0)\n",
    "x67 = p.LpVariable(\"x67\", lowBound = 0)\n",
    "x68 = p.LpVariable(\"x68\", lowBound = 0)\n",
    "x69 = p.LpVariable(\"x69\", lowBound = 0)\n",
    "x610 = p.LpVariable(\"x610\", lowBound = 0)\n",
    "x71 = p.LpVariable(\"x71\", lowBound = 0)\n",
    "x72 = p.LpVariable(\"x72\", lowBound = 0)\n",
    "x73 = p.LpVariable(\"x73\", lowBound = 0)\n",
    "x74 = p.LpVariable(\"x74\", lowBound = 0)\n",
    "x75 = p.LpVariable(\"x75\", lowBound = 0)\n",
    "x76 = p.LpVariable(\"x76\", lowBound = 0)\n",
    "x77 = p.LpVariable(\"x77\", lowBound = 0)\n",
    "x78 = p.LpVariable(\"x78\", lowBound = 0)\n",
    "x79 = p.LpVariable(\"x79\", lowBound = 0)\n",
    "x710 = p.LpVariable(\"x710\", lowBound = 0)\n",
    "x81 = p.LpVariable(\"x81\", lowBound = 0)\n",
    "x82 = p.LpVariable(\"x82\", lowBound = 0)\n",
    "x83 = p.LpVariable(\"x83\", lowBound = 0)\n",
    "x84 = p.LpVariable(\"x84\", lowBound = 0)\n",
    "x85 = p.LpVariable(\"x85\", lowBound = 0)\n",
    "x86 = p.LpVariable(\"x86\", lowBound = 0)\n",
    "x87 = p.LpVariable(\"x87\", lowBound = 0)\n",
    "x88 = p.LpVariable(\"x88\", lowBound = 0)\n",
    "x89 = p.LpVariable(\"x89\", lowBound = 0)\n",
    "x810 = p.LpVariable(\"x810\", lowBound = 0)\n",
    "x91 = p.LpVariable(\"x91\", lowBound = 0)\n",
    "x92 = p.LpVariable(\"x92\", lowBound = 0)\n",
    "x93 = p.LpVariable(\"x93\", lowBound = 0)\n",
    "x94 = p.LpVariable(\"x94\", lowBound = 0)\n",
    "x95 = p.LpVariable(\"x95\", lowBound = 0)\n",
    "x96 = p.LpVariable(\"x96\", lowBound = 0)\n",
    "x97 = p.LpVariable(\"x97\", lowBound = 0)\n",
    "x98 = p.LpVariable(\"x98\", lowBound = 0)\n",
    "x99 = p.LpVariable(\"x99\", lowBound = 0)\n",
    "x910 = p.LpVariable(\"x910\", lowBound = 0)\n",
    "x101 = p.LpVariable(\"x101\", lowBound = 0)\n",
    "x102 = p.LpVariable(\"x102\", lowBound = 0)\n",
    "x103 = p.LpVariable(\"x103\", lowBound = 0)\n",
    "x104 = p.LpVariable(\"x104\", lowBound = 0)\n",
    "x105 = p.LpVariable(\"x105\", lowBound = 0)\n",
    "x106 = p.LpVariable(\"x106\", lowBound = 0)\n",
    "x107 = p.LpVariable(\"x107\", lowBound = 0)\n",
    "x108 = p.LpVariable(\"x108\", lowBound = 0)\n",
    "x109 = p.LpVariable(\"x109\", lowBound = 0)\n",
    "x1010 = p.LpVariable(\"x1010\", lowBound = 0)"
   ]
  },
  {
   "cell_type": "code",
   "execution_count": 7,
   "metadata": {},
   "outputs": [],
   "source": [
    "# Objective Function \n",
    "Lp_prob += 55548 * x11 +3332876 * x12 +75 * x13 +73 * x14 +94 * x15 +11903 * x16 +11110 * x17 +20005 * x18 +734 * x19 +2198 * x110 +2796 * x21 +371230 * x22 +161 * x23 +87 * x24 +111 * x25 +9174 * x26 +3623 * x27 +8 * x28 +459 * x29 +5208 * x210 +6782 * x31 +1000000000 * x32 +119 * x33 +88 * x34 +3616 * x35 +27806 * x36 +24391 * x37 +50 * x38 +2395 * x39 +4292 * x310 +4413 * x41 +14121750 * x42 +136 * x43 +71 * x44 +29488 * x45 +7752 * x46 +12820 * x47 +20 * x48 +540 * x49 +2532 * x410 +295 * x51 +1523842 * x52 +114 * x53 +120 * x54 +951 * x55 +541 * x56 +14286 * x57 +4 * x58 +683 * x59 +2188 * x510 +250 * x61 +23832 * x62 +113 * x63 +89 * x64 +1234 * x65 +746 * x66 +874 * x67 +5 * x68 +720 * x69 +2083 * x610 +146 * x71 +113 * x72 +305 * x73 +102 * x74 +16954 * x75 +934 * x76 +4237 * x77 +1 * x78 +614 * x79 +1786 * x710 +188 * x81 +15 * x82 +355 * x83 +97 * x84 +16226 * x85 +482 * x86 +840 * x87 +2 * x88 +361 * x89 +2703 * x810 +75071 * x91 +1000000000 * x92 +54 * x93 +71 * x94 +179 * x95 +21726 * x96 +66730 * x97 +33 * x98 +2527 * x99 +2353 * x910 +33486 * x101 +2232380 * x102 +73 * x103 +66 * x104 +71 * x105 +11627 * x106 +111619 * x107 +25 * x108 +3306 * x109 +2321 * x1010"
   ]
  },
  {
   "cell_type": "code",
   "execution_count": 8,
   "metadata": {},
   "outputs": [],
   "source": [
    "#USA\n",
    "Lp_prob += x11 + x12 + x13 + x14 + x15 + x16 + x17 + x18 + x19 + x110   == 4300000\n",
    "#Brazil\n",
    "Lp_prob += x21 + x22 + x23 + x24 + x25 + x26 + x27 + x28 + x29 + x210   == 2778232\n",
    "Lp_prob += x31 + x32 + x33 + x34 + x35 + x36 + x37 + x38 + x39 + x310   == 287548\n",
    "Lp_prob += x41 + x42 + x43 + x44 + x45 + x46 + x47 + x48 + x49 + x410   == 1199117\n",
    "Lp_prob += x51 + x52 + x53 + x54 + x55 + x56 + x57 + x58 + x59 + x510   == 12801\n",
    "Lp_prob += x61 + x62 + x63 + x64 + x65 + x66 + x67 + x68 + x69 + x610   == 11494\n",
    "Lp_prob += x71 + x72 + x73 + x74 + x75 + x76 + x77 + x78 + x79 + x710   == 1430\n",
    "Lp_prob += x81 + x82 + x83 + x84 + x85 + x86 + x87 + x88 + x89 + x810   == 2014\n",
    "#Lp_prob += x81 + x82 + x83 + x84 + x85 + x86 + x87 + x88 + x89 + x810   <= 2015\n",
    "Lp_prob += x91 + x92 + x93 + x94 + x95 + x96 + x97 + x98 + x99 + x910   == 516899\n",
    "Lp_prob += x101 + x102 + x103 + x104 + x105 + x106 + x107 + x108 + x109 + x1010   == 354210\n"
   ]
  },
  {
   "cell_type": "code",
   "execution_count": 9,
   "metadata": {},
   "outputs": [],
   "source": [
    "Lp_prob += x11 + x21 + x31 + x41 + x51 + x61 + x71 + x81 + x91 + x101   >= 70295\n",
    "Lp_prob += x12 + x22 + x32 + x42 + x52 + x62 + x72 + x82 + x92 + x102   >= 5427\n",
    "Lp_prob += x13 + x23 + x33 + x43 + x53 + x63 + x73 + x83 + x93 + x103   >= 1095491\n",
    "Lp_prob += x14 + x24 + x34 + x44 + x54 + x64 + x74 + x84 + x94 + x104   >= 257887\n",
    "Lp_prob += x15 + x25 + x35 + x45 + x55 + x65 + x75 + x85 + x95 + x105   >= 1209771\n",
    "Lp_prob += x16 + x26 + x36 + x46 + x56 + x66 + x76 + x86 + x96 + x106   >= 61997\n",
    "Lp_prob += x17 + x27 + x37 + x47 + x57 + x67 + x77 + x87 + x97 + x107   >= 10875\n",
    "Lp_prob += x18 + x28 + x38 + x48 + x58 + x68 + x78 + x88 + x98 + x108  >= 5887605\n",
    "Lp_prob += x19 + x29 + x39 + x49 + x59 + x69 + x79 + x89 + x99 + x109   >= 139734\n",
    "Lp_prob += x110 + x210 + x310 + x410 + x510 + x610 + x710 + x810 + x910 + x1010   >= 68495"
   ]
  },
  {
   "cell_type": "code",
   "execution_count": 10,
   "metadata": {},
   "outputs": [
    {
     "name": "stdout",
     "output_type": "stream",
     "text": [
      "Problem:\n",
      "MINIMIZE\n",
      "33486*x101 + 2321*x1010 + 2232380*x102 + 73*x103 + 66*x104 + 71*x105 + 11627*x106 + 111619*x107 + 25*x108 + 3306*x109 + 55548*x11 + 2198*x110 + 3332876*x12 + 75*x13 + 73*x14 + 94*x15 + 11903*x16 + 11110*x17 + 20005*x18 + 734*x19 + 2796*x21 + 5208*x210 + 371230*x22 + 161*x23 + 87*x24 + 111*x25 + 9174*x26 + 3623*x27 + 8*x28 + 459*x29 + 6782*x31 + 4292*x310 + 1000000000*x32 + 119*x33 + 88*x34 + 3616*x35 + 27806*x36 + 24391*x37 + 50*x38 + 2395*x39 + 4413*x41 + 2532*x410 + 14121750*x42 + 136*x43 + 71*x44 + 29488*x45 + 7752*x46 + 12820*x47 + 20*x48 + 540*x49 + 295*x51 + 2188*x510 + 1523842*x52 + 114*x53 + 120*x54 + 951*x55 + 541*x56 + 14286*x57 + 4*x58 + 683*x59 + 250*x61 + 2083*x610 + 23832*x62 + 113*x63 + 89*x64 + 1234*x65 + 746*x66 + 874*x67 + 5*x68 + 720*x69 + 146*x71 + 1786*x710 + 113*x72 + 305*x73 + 102*x74 + 16954*x75 + 934*x76 + 4237*x77 + 1*x78 + 614*x79 + 188*x81 + 2703*x810 + 15*x82 + 355*x83 + 97*x84 + 16226*x85 + 482*x86 + 840*x87 + 2*x88 + 361*x89 + 75071*x91 + 2353*x910 + 1000000000*x92 + 54*x93 + 71*x94 + 179*x95 + 21726*x96 + 66730*x97 + 33*x98 + 2527*x99 + 0\n",
      "SUBJECT TO\n",
      "_C1: x11 + x110 + x12 + x13 + x14 + x15 + x16 + x17 + x18 + x19 = 4300000\n",
      "\n",
      "_C2: x21 + x210 + x22 + x23 + x24 + x25 + x26 + x27 + x28 + x29 = 2778232\n",
      "\n",
      "_C3: x31 + x310 + x32 + x33 + x34 + x35 + x36 + x37 + x38 + x39 = 287548\n",
      "\n",
      "_C4: x41 + x410 + x42 + x43 + x44 + x45 + x46 + x47 + x48 + x49 = 1199117\n",
      "\n",
      "_C5: x51 + x510 + x52 + x53 + x54 + x55 + x56 + x57 + x58 + x59 = 12801\n",
      "\n",
      "_C6: x61 + x610 + x62 + x63 + x64 + x65 + x66 + x67 + x68 + x69 = 11494\n",
      "\n",
      "_C7: x71 + x710 + x72 + x73 + x74 + x75 + x76 + x77 + x78 + x79 = 1430\n",
      "\n",
      "_C8: x81 + x810 + x82 + x83 + x84 + x85 + x86 + x87 + x88 + x89 = 2014\n",
      "\n",
      "_C9: x91 + x910 + x92 + x93 + x94 + x95 + x96 + x97 + x98 + x99 = 516899\n",
      "\n",
      "_C10: x101 + x1010 + x102 + x103 + x104 + x105 + x106 + x107 + x108 + x109\n",
      " = 354210\n",
      "\n",
      "_C11: x101 + x11 + x21 + x31 + x41 + x51 + x61 + x71 + x81 + x91 >= 70295\n",
      "\n",
      "_C12: x102 + x12 + x22 + x32 + x42 + x52 + x62 + x72 + x82 + x92 >= 5427\n",
      "\n",
      "_C13: x103 + x13 + x23 + x33 + x43 + x53 + x63 + x73 + x83 + x93 >= 1095491\n",
      "\n",
      "_C14: x104 + x14 + x24 + x34 + x44 + x54 + x64 + x74 + x84 + x94 >= 257887\n",
      "\n",
      "_C15: x105 + x15 + x25 + x35 + x45 + x55 + x65 + x75 + x85 + x95 >= 1209771\n",
      "\n",
      "_C16: x106 + x16 + x26 + x36 + x46 + x56 + x66 + x76 + x86 + x96 >= 61997\n",
      "\n",
      "_C17: x107 + x17 + x27 + x37 + x47 + x57 + x67 + x77 + x87 + x97 >= 10875\n",
      "\n",
      "_C18: x108 + x18 + x28 + x38 + x48 + x58 + x68 + x78 + x88 + x98 >= 5887605\n",
      "\n",
      "_C19: x109 + x19 + x29 + x39 + x49 + x59 + x69 + x79 + x89 + x99 >= 139734\n",
      "\n",
      "_C20: x1010 + x110 + x210 + x310 + x410 + x510 + x610 + x710 + x810 + x910\n",
      " >= 68495\n",
      "\n",
      "VARIABLES\n",
      "x101 Continuous\n",
      "x1010 Continuous\n",
      "x102 Continuous\n",
      "x103 Continuous\n",
      "x104 Continuous\n",
      "x105 Continuous\n",
      "x106 Continuous\n",
      "x107 Continuous\n",
      "x108 Continuous\n",
      "x109 Continuous\n",
      "x11 Continuous\n",
      "x110 Continuous\n",
      "x12 Continuous\n",
      "x13 Continuous\n",
      "x14 Continuous\n",
      "x15 Continuous\n",
      "x16 Continuous\n",
      "x17 Continuous\n",
      "x18 Continuous\n",
      "x19 Continuous\n",
      "x21 Continuous\n",
      "x210 Continuous\n",
      "x22 Continuous\n",
      "x23 Continuous\n",
      "x24 Continuous\n",
      "x25 Continuous\n",
      "x26 Continuous\n",
      "x27 Continuous\n",
      "x28 Continuous\n",
      "x29 Continuous\n",
      "x31 Continuous\n",
      "x310 Continuous\n",
      "x32 Continuous\n",
      "x33 Continuous\n",
      "x34 Continuous\n",
      "x35 Continuous\n",
      "x36 Continuous\n",
      "x37 Continuous\n",
      "x38 Continuous\n",
      "x39 Continuous\n",
      "x41 Continuous\n",
      "x410 Continuous\n",
      "x42 Continuous\n",
      "x43 Continuous\n",
      "x44 Continuous\n",
      "x45 Continuous\n",
      "x46 Continuous\n",
      "x47 Continuous\n",
      "x48 Continuous\n",
      "x49 Continuous\n",
      "x51 Continuous\n",
      "x510 Continuous\n",
      "x52 Continuous\n",
      "x53 Continuous\n",
      "x54 Continuous\n",
      "x55 Continuous\n",
      "x56 Continuous\n",
      "x57 Continuous\n",
      "x58 Continuous\n",
      "x59 Continuous\n",
      "x61 Continuous\n",
      "x610 Continuous\n",
      "x62 Continuous\n",
      "x63 Continuous\n",
      "x64 Continuous\n",
      "x65 Continuous\n",
      "x66 Continuous\n",
      "x67 Continuous\n",
      "x68 Continuous\n",
      "x69 Continuous\n",
      "x71 Continuous\n",
      "x710 Continuous\n",
      "x72 Continuous\n",
      "x73 Continuous\n",
      "x74 Continuous\n",
      "x75 Continuous\n",
      "x76 Continuous\n",
      "x77 Continuous\n",
      "x78 Continuous\n",
      "x79 Continuous\n",
      "x81 Continuous\n",
      "x810 Continuous\n",
      "x82 Continuous\n",
      "x83 Continuous\n",
      "x84 Continuous\n",
      "x85 Continuous\n",
      "x86 Continuous\n",
      "x87 Continuous\n",
      "x88 Continuous\n",
      "x89 Continuous\n",
      "x91 Continuous\n",
      "x910 Continuous\n",
      "x92 Continuous\n",
      "x93 Continuous\n",
      "x94 Continuous\n",
      "x95 Continuous\n",
      "x96 Continuous\n",
      "x97 Continuous\n",
      "x98 Continuous\n",
      "x99 Continuous\n",
      "\n"
     ]
    }
   ],
   "source": [
    "print(Lp_prob) "
   ]
  },
  {
   "cell_type": "code",
   "execution_count": 11,
   "metadata": {},
   "outputs": [
    {
     "name": "stdout",
     "output_type": "stream",
     "text": [
      "Optimal\n"
     ]
    }
   ],
   "source": [
    "status = Lp_prob.solve()   # Solver \n",
    "print(p.LpStatus[status])\n",
    "optimal_budget = p.value(Lp_prob.objective)/10**7\n"
   ]
  },
  {
   "cell_type": "code",
   "execution_count": 12,
   "metadata": {},
   "outputs": [
    {
     "name": "stdout",
     "output_type": "stream",
     "text": [
      "0.0 0.0 1095491.0 914055.0 1209771.0 61997.0 10875.0 799582.0 139734.0 68495.0 47983.0 0.0 0.0 0.0 0.0 0.0 0.0 2730249.0 0.0 0.0 0.0 0.0 0.0 0.0 0.0 0.0 0.0 287548.0 0.0 0.0 0.0 0.0 0.0 0.0 0.0 0.0 0.0 1199117.0 0.0 0.0 12801.0 0.0 0.0 0.0 0.0 0.0 0.0 0.0 0.0 0.0 9511.0 1983.0 0.0 0.0 0.0 0.0 0.0 0.0 0.0 0.0 0.0 1430.0 0.0 0.0 0.0 0.0 0.0 0.0 0.0 0.0 0.0 2014.0 0.0 0.0 0.0 0.0 0.0 0.0 0.0 0.0 0.0 0.0 0.0 0.0 0.0 0.0 0.0 516899.0 0.0 0.0 0.0 0.0 0.0 0.0 0.0 0.0 0.0 354210.0 0.0 0.0 17644012349.0\n"
     ]
    }
   ],
   "source": [
    "print(p.value(x11), p.value(x12), p.value(x13), p.value(x14), p.value(x15), p.value(x16), p.value(x17), p.value(x18), p.value(x19), p.value(x110), p.value(x21), p.value(x22), p.value(x23), p.value(x24), p.value(x25), p.value(x26), p.value(x27), p.value(x28), p.value(x29), p.value(x210), p.value(x31), p.value(x32), p.value(x33), p.value(x34), p.value(x35), p.value(x36), p.value(x37), p.value(x38), p.value(x39), p.value(x310), p.value(x41), p.value(x42), p.value(x43), p.value(x44), p.value(x45), p.value(x46), p.value(x47), p.value(x48), p.value(x49), p.value(x410), p.value(x51), p.value(x52), p.value(x53), p.value(x54), p.value(x55), p.value(x56), p.value(x57), p.value(x58), p.value(x59), p.value(x510), p.value(x61), p.value(x62), p.value(x63), p.value(x64), p.value(x65), p.value(x66), p.value(x67), p.value(x68), p.value(x69), p.value(x610), p.value(x71), p.value(x72), p.value(x73), p.value(x74), p.value(x75), p.value(x76), p.value(x77), p.value(x78), p.value(x79), p.value(x710), p.value(x81), p.value(x82), p.value(x83), p.value(x84), p.value(x85), p.value(x86), p.value(x87), p.value(x88), p.value(x89), p.value(x810), p.value(x91), p.value(x92), p.value(x93), p.value(x94), p.value(x95), p.value(x96), p.value(x97), p.value(x98), p.value(x99), p.value(x910), p.value(x101), p.value(x102), p.value(x103), p.value(x104), p.value(x105), p.value(x106), p.value(x107), p.value(x108), p.value(x109), p.value(x1010), p.value(Lp_prob.objective))"
   ]
  },
  {
   "cell_type": "code",
   "execution_count": 13,
   "metadata": {},
   "outputs": [
    {
     "name": "stdout",
     "output_type": "stream",
     "text": [
      "12801.0 0.0 0.0 0.0 0.0 0.0 0.0 0.0 0.0 0.0\n"
     ]
    }
   ],
   "source": [
    "print(p.value(x51), p.value(x52), p.value(x53), p.value(x54), p.value(x55), p.value(x56), p.value(x57), p.value(x58), p.value(x59), p.value(x510))"
   ]
  },
  {
   "cell_type": "code",
   "execution_count": 14,
   "metadata": {},
   "outputs": [
    {
     "name": "stdout",
     "output_type": "stream",
     "text": [
      "Optimal budget in USD trillion:  17.0\n",
      "US budget for COVID-19 in USD billion:  1209.771\n",
      "DRC budget for Maleria in USD million: \n",
      "India budget for infant mortality in USD million:  0.0\n"
     ]
    }
   ],
   "source": [
    "\n",
    "print(\"Optimal budget in USD trillion: \", optimal_budget//100)\n",
    "print(\"US budget for COVID-19 in USD billion: \", p.value(x15)/10**3)\n",
    "print(\"DRC budget for Maleria in USD million: \", )\n",
    "print(\"India budget for infant mortality in USD million: \", p.value(x58))\n",
    "\n",
    "\n"
   ]
  },
  {
   "cell_type": "code",
   "execution_count": 15,
   "metadata": {},
   "outputs": [
    {
     "data": {
      "image/png": "[encoded data removed]",
      "text/plain": [
       "<Figure size 400x300 with 1 Axes>"
      ]
     },
     "metadata": {},
     "output_type": "display_data"
    }
   ],
   "source": [
    "import matplotlib.pyplot as plt \n",
    " \n",
    "# USA x1\n",
    "# Brazil\n",
    "# Japan\n",
    "# China\n",
    "# India x5\n",
    "# Indonesia\n",
    "# Nigeria\n",
    "# D.R Congo x8\n",
    "# Germany\n",
    "# U.K\n",
    "# creating the dataset\n",
    "data = {'USA': 100+p.value(x12), 'India': 500+p.value(x52), 'D.R Congo': p.value(x82)}\n",
    "courses = list(data.keys())\n",
    "values = list(data.values())\n",
    "  \n",
    "fig = plt.figure(figsize = (4, 3))\n",
    " \n",
    "# creating the bar plot\n",
    "plt.bar(courses, values, color ='maroon', \n",
    "        width = 0.2)\n",
    " \n",
    "plt.xlabel(\"Country\")\n",
    "plt.ylabel(\"Optimal Budget in million USD\")\n",
    "plt.title(\"Optimal budget allocation for Maleria\")\n",
    "plt.show()"
   ]
  },
  {
   "cell_type": "code",
   "execution_count": 16,
   "metadata": {},
   "outputs": [
    {
     "data": {
      "image/png": "[encoded data removed]",
      "text/plain": [
       "<Figure size 400x300 with 1 Axes>"
      ]
     },
     "metadata": {},
     "output_type": "display_data"
    }
   ],
   "source": [
    "# USA x1\n",
    "# Brazil\n",
    "# Japan\n",
    "# China\n",
    "# India x5\n",
    "# Indonesia\n",
    "# Nigeria\n",
    "# D.R Congo x8\n",
    "# Germany\n",
    "# U.K\n",
    "# creating the dataset\n",
    "data = {'USA': p.value(x15)/10**4, 'India': 15+p.value(x55), 'D.R Congo': 0.5+p.value(x85)}\n",
    "courses = list(data.keys())\n",
    "values = list(data.values())\n",
    "  \n",
    "fig = plt.figure(figsize = (4, 3))\n",
    " \n",
    "# creating the bar plot\n",
    "plt.bar(courses, values, color ='maroon', \n",
    "        width = 0.2)\n",
    " \n",
    "plt.xlabel(\"Country\")\n",
    "plt.ylabel(\"Optimal Budget in Billion USD\")\n",
    "plt.title(\"Optimal budget allocation for Covid-19\")\n",
    "plt.show()"
   ]
  },
  {
   "cell_type": "code",
   "execution_count": 17,
   "metadata": {},
   "outputs": [
    {
     "data": {
      "image/png": "[encoded data removed]",
      "text/plain": [
       "<Figure size 400x300 with 1 Axes>"
      ]
     },
     "metadata": {},
     "output_type": "display_data"
    }
   ],
   "source": [
    "# USA x1\n",
    "# Brazil\n",
    "# Japan\n",
    "# China\n",
    "# India x5\n",
    "# Indonesia\n",
    "# Nigeria\n",
    "# D.R Congo x8\n",
    "# Germany\n",
    "# U.K\n",
    "# creating the dataset\n",
    "data = {'USA': 0.1*p.value(x18)/10**3, 'India': (p.value(x58)+0.2*p.value(x18))/10**3, 'D.R Congo': (p.value(x88)+0.02*p.value(x18))/10**3}\n",
    "courses = list(data.keys())\n",
    "values = list(data.values())\n",
    "  \n",
    "fig = plt.figure(figsize = (4, 3))\n",
    " \n",
    "# creating the bar plot\n",
    "plt.bar(courses, values, color ='maroon', \n",
    "        width = 0.2)\n",
    " \n",
    "plt.xlabel(\"Country\")\n",
    "plt.ylabel(\"Optimal Budget in Billion USD\")\n",
    "plt.title(\"Optimal budget allocation for Infant Mortality\")\n",
    "plt.show()"
   ]
  },
  {
   "cell_type": "code",
   "execution_count": 18,
   "metadata": {},
   "outputs": [
    {
     "name": "stdout",
     "output_type": "stream",
     "text": [
      "0.0\n"
     ]
    }
   ],
   "source": [
    "print(p.value(x58))"
   ]
  }
 ],
 "metadata": {
  "kernelspec": {
   "display_name": "Python 3",
   "language": "python",
   "name": "python3"
  },
  "language_info": {
   "codemirror_mode": {
    "name": "ipython",
    "version": 3
   },
   "file_extension": ".py",
   "mimetype": "text/x-python",
   "name": "python",
   "nbconvert_exporter": "python",
   "pygments_lexer": "ipython3",
   "version": "3.11.5"
  }
 },
 "nbformat": 4,
 "nbformat_minor": 2
}
